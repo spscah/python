{
 "cells": [
  {
   "cell_type": "markdown",
   "metadata": {},
   "source": [
    "# Tuples\n",
    "\n",
    "Tuples are a way of grouping information together. \n",
    "\n",
    "We are already well used to this in maths - even if you don't already realise it. \n",
    "\n",
    "If you saw `(0, -2)` in a maths lesson, you'd know exactly what it was, a pair of co-ordinates. This is an example of a **data structure** where we collect related pieces of data together."
   ]
  },
  {
   "cell_type": "code",
   "execution_count": 2,
   "metadata": {
    "collapsed": false
   },
   "outputs": [
    {
     "name": "stdout",
     "output_type": "stream",
     "text": [
      "the position is (6, 12)\n"
     ]
    }
   ],
   "source": [
    "x = 6\n",
    "y = 12\n",
    "position = (x, y)\n",
    "print(\"the position is {0}\".format(position))"
   ]
  },
  {
   "cell_type": "markdown",
   "metadata": {},
   "source": [
    "The two variables combine to make a co-ordinate; as we've seen with lists and strings, we can also use the square brackets to bring them apart:"
   ]
  },
  {
   "cell_type": "code",
   "execution_count": 3,
   "metadata": {
    "collapsed": false
   },
   "outputs": [
    {
     "name": "stdout",
     "output_type": "stream",
     "text": [
      "6\n",
      "12\n"
     ]
    }
   ],
   "source": [
    "print(position[0])\n",
    "print(position[1])"
   ]
  },
  {
   "cell_type": "markdown",
   "metadata": {},
   "source": [
    "Tuples can be of any length, not just the pairs that we have seen here. The variables in the tuple do not all have to be of the same type. \n",
    "\n",
    "### Functions\n",
    "\n",
    "Many of the functions that are defined for lists also work with tuples `len`, `min`, `max`, slicing, e.g. "
   ]
  },
  {
   "cell_type": "code",
   "execution_count": 4,
   "metadata": {
    "collapsed": false
   },
   "outputs": [
    {
     "name": "stdout",
     "output_type": "stream",
     "text": [
      "3\n",
      "('sixty-four', 81)\n"
     ]
    }
   ],
   "source": [
    "triple = (49, 'sixty-four', 81)\n",
    "print(len(triple))\n",
    "allbarfirst = triple[1:]\n",
    "print(allbarfirst)"
   ]
  },
  {
   "cell_type": "markdown",
   "metadata": {},
   "source": [
    "**Note** that if the variables are not all of the same type, then the `max` and `min` cannot be used. \n",
    "\n",
    "## Packing and Unpacking\n",
    "\n",
    "You've already seen above how we can join variables (or constants) together to form a tuple - this is known as **packing**. But we can also access the data in the same way, this is unpacking:"
   ]
  },
  {
   "cell_type": "code",
   "execution_count": 5,
   "metadata": {
    "collapsed": false
   },
   "outputs": [
    {
     "name": "stdout",
     "output_type": "stream",
     "text": [
      "6 12\n"
     ]
    }
   ],
   "source": [
    "(a,b) = position \n",
    "print(a, b)"
   ]
  },
  {
   "cell_type": "markdown",
   "metadata": {},
   "source": [
    "We can use this in both directions, for example when swapping values around. "
   ]
  },
  {
   "cell_type": "code",
   "execution_count": 6,
   "metadata": {
    "collapsed": false
   },
   "outputs": [
    {
     "name": "stdout",
     "output_type": "stream",
     "text": [
      "12 6\n"
     ]
    }
   ],
   "source": [
    "(b, a) = (a, b)\n",
    "print(a,b)"
   ]
  },
  {
   "cell_type": "markdown",
   "metadata": {},
   "source": [
    "## Mutability\n",
    "\n",
    "Unlike lists, tuples are *immutable* which means that once they have been combined together they cannot be changed. In order to edit a value in a tuple, you have to create a new tuple using the values from the previous one and the updated values ([perhaps using slicing or other more involved ways](http://stackoverflow.com/questions/11458239/python-changing-value-in-a-tuple))."
   ]
  },
  {
   "cell_type": "markdown",
   "metadata": {},
   "source": [
    "## Return Values\n",
    "\n",
    "You can use tuples to group together several variables for returning multiple things from a function. "
   ]
  },
  {
   "cell_type": "code",
   "execution_count": 18,
   "metadata": {
    "collapsed": false
   },
   "outputs": [
    {
     "name": "stdout",
     "output_type": "stream",
     "text": [
      "(7, 14, 49)\n"
     ]
    }
   ],
   "source": [
    "def ReturnATriple(x):\n",
    "    return x, 2*x, x * x\n",
    "\n",
    "print(ReturnATriple(7))"
   ]
  },
  {
   "cell_type": "markdown",
   "metadata": {},
   "source": [
    "## References\n",
    "\n",
    "Tuples are discussed on the [official documentation](https://docs.python.org/3.6/tutorial/datastructures.html#tuples-and-sequences) and on the textbook we've been following: [Chapter 9 - Tuples](http://openbookproject.net/thinkcs/python/english3e/tuples.html)."
   ]
  },
  {
   "cell_type": "markdown",
   "metadata": {},
   "source": [
    "## Exercises\n",
    "\n",
    "For these exercises, you should: \n",
    "* produce test data\n",
    "* layout your code logically, using well named variables and functions \n",
    "\n",
    "\n",
    "1. Write a function `repeat` which will take a tuple of a number and a string and return a string which repeats that string that number of times, e.g. `repeat( (3, 'ab') )` should return `ababab`\n",
    "1. Write a function `repeat_list` which takes a list of (number, string) pairs and return a string made up of these, e.g. `repeat_list([(3, 'ab'), (2, 'cd')])` should return `abababcdcd` (*you should call your 'repeat' function from 'repeat_list')*)\n",
    "1. Write a function `character_counter` which takes a string and returns a count of how many time each character in that string appears. The return value should be a list of tuples, ideally with the most common character first. \n",
    "1. **(Extension)** can you extend `character_counter` to spot repeating multi-letter patters, i.e. to produce the input values for the earlier `repeat_list` from the output? \n"
   ]
  },
  {
   "cell_type": "code",
   "execution_count": null,
   "metadata": {
    "collapsed": true
   },
   "outputs": [],
   "source": []
  }
 ],
 "metadata": {
  "anaconda-cloud": {},
  "kernelspec": {
   "display_name": "Python [default]",
   "language": "python",
   "name": "python3"
  },
  "language_info": {
   "codemirror_mode": {
    "name": "ipython",
    "version": 3
   },
   "file_extension": ".py",
   "mimetype": "text/x-python",
   "name": "python",
   "nbconvert_exporter": "python",
   "pygments_lexer": "ipython3",
   "version": "3.5.2"
  }
 },
 "nbformat": 4,
 "nbformat_minor": 1
}
