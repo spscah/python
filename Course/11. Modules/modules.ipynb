{
 "cells": [
  {
   "cell_type": "markdown",
   "metadata": {},
   "source": [
    "# Modules\n",
    "\n",
    "We don't want to have to create all the functions we ever use. It can be useful to save functions in a file and then refer to that file from your code; these files are called **modules**. \n",
    "\n",
    "There are many modules available as part of the basic python installation - we've already used items from the **math**, **random** and **system** modules (and maybe some others). \n",
    "\n",
    "In this chapter we will look at another useful one. "
   ]
  },
  {
   "cell_type": "markdown",
   "metadata": {},
   "source": [
    "## DateTime\n",
    "\n",
    "The **datetime** module contains various types and functions associated with times and dates. \n",
    "\n",
    "The full documentation can be found [here](https://docs.python.org/3.6/library/datetime.html).\n",
    "\n",
    "There are functions that can get useful dates (e.g. today) and you can create a specific date. \n",
    "\n",
    "It is important to unpack the call to a function like `datetime.date.today()`: \n",
    "  - the `datetime` is the name of the module (that you will have called via `import` at the top of the file\n",
    "  - the `date` is the class that holds all the details (and, coincidentally, which will be the type of the value returned)\n",
    "  - `today()` is the function itself that returns the details of today' date \n",
    "  \n",
    "You can print the date object directly, or use some of the other functions defined on the date object. "
   ]
  },
  {
   "cell_type": "code",
   "execution_count": 22,
   "metadata": {
    "collapsed": false
   },
   "outputs": [
    {
     "name": "stdout",
     "output_type": "stream",
     "text": [
      "2017-03-03\n",
      "2017\n",
      "3\n",
      "3\n",
      "1980\n",
      "1\n",
      "21\n"
     ]
    }
   ],
   "source": [
    "import datetime \n",
    "x = datetime.date.today()\n",
    "print(x)\n",
    "print(x.year)\n",
    "print(x.month)\n",
    "print(x.day)\n",
    "\n",
    "y = datetime.date(1980, 1, 21)\n",
    "print(y.year)\n",
    "print(y.month)\n",
    "print(y.day)"
   ]
  },
  {
   "cell_type": "markdown",
   "metadata": {},
   "source": [
    "Similarly, there is a **datetime** class for holding time information, in addition to just a dates. "
   ]
  },
  {
   "cell_type": "code",
   "execution_count": 24,
   "metadata": {
    "collapsed": false
   },
   "outputs": [
    {
     "name": "stdout",
     "output_type": "stream",
     "text": [
      "2017-03-03 15:14:34.880522\n"
     ]
    }
   ],
   "source": [
    "t = datetime.datetime.now()\n",
    "print(t)"
   ]
  },
  {
   "cell_type": "markdown",
   "metadata": {},
   "source": [
    "You can take one date away from another, or one time away from another, and the result will be a **timedelta** object. This holds an elapsed amount of time. "
   ]
  },
  {
   "cell_type": "code",
   "execution_count": 21,
   "metadata": {
    "collapsed": false
   },
   "outputs": [
    {
     "name": "stdout",
     "output_type": "stream",
     "text": [
      "13556\n"
     ]
    }
   ],
   "source": [
    "d = x-y\n",
    "print(d.days)"
   ]
  },
  {
   "cell_type": "markdown",
   "metadata": {},
   "source": [
    "## Tasks\n",
    "\n",
    "1. Write a program to work out how many days that you have been alive for: \n",
    "  - write a function `daysalive()` which takes a date and returns the number of days elapsed between that date and today  \n",
    "  - enter your date of birth \n",
    "  - use your function to tell the user how many days they've been alive \n",
    "1. Extend your program to also take in a time period type (e.g. weeks, minutes, seconds) and output that number instead \n",
    "1. Create a stopwatch function - the user should be able to hit the enter key one time ... then after they hit the enter key a second time, output the time elapsed (in seconds, minutes, milliseconds, etc.) \n"
   ]
  },
  {
   "cell_type": "markdown",
   "metadata": {},
   "source": [
    "### References \n",
    "\n",
    "  - [Official Python documentation](https://docs.python.org/3.6/library/datetime.html) \n",
    "  - [Think Like a Computer Scientist - chapter 12](http://openbookproject.net/thinkcs/python/english3e/modules.html)\n"
   ]
  }
 ],
 "metadata": {
  "anaconda-cloud": {},
  "kernelspec": {
   "display_name": "Python [default]",
   "language": "python",
   "name": "python3"
  },
  "language_info": {
   "codemirror_mode": {
    "name": "ipython",
    "version": 3
   },
   "file_extension": ".py",
   "mimetype": "text/x-python",
   "name": "python",
   "nbconvert_exporter": "python",
   "pygments_lexer": "ipython3",
   "version": "3.5.2"
  }
 },
 "nbformat": 4,
 "nbformat_minor": 1
}
