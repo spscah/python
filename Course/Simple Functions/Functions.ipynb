{
 "cells": [
  {
   "cell_type": "markdown",
   "metadata": {},
   "source": [
    "# Functions\n",
    "\n",
    "If you need to do something more than once, you need to avoid writing the code more than once. \n",
    "\n",
    "Don't forget, if you want to run the code, put your cursor in a code block and hit **SHIFT-ENTER**."
   ]
  },
  {
   "cell_type": "code",
   "execution_count": null,
   "metadata": {
    "collapsed": false
   },
   "outputs": [],
   "source": [
    "a = 5\n",
    "b = 7 \n",
    "c = 10\n",
    "\n",
    "print(a,b,c)\n",
    "\n",
    "x = a * 2 \n",
    "y = b * 2 \n",
    "z = c * 2\n",
    "print(x,y,z)"
   ]
  },
  {
   "cell_type": "markdown",
   "metadata": {},
   "source": [
    "Rather than each time having to explicitly multiply by `2` we could embed that concept in a piece of code and call that. "
   ]
  },
  {
   "cell_type": "code",
   "execution_count": null,
   "metadata": {
    "collapsed": false
   },
   "outputs": [],
   "source": [
    "def double(value):\n",
    "    v = value * 3\n",
    "    return v\n",
    "\n",
    "a = 5 \n",
    "b = 7 \n",
    "c = 10\n",
    "print(a, b, c)\n",
    "\n",
    "x = double(a)\n",
    "y = double(b)\n",
    "z = double(c)\n",
    "print(x,y,z)"
   ]
  },
  {
   "cell_type": "markdown",
   "metadata": {},
   "source": [
    "This way, if we find a problem in the code (which we are not going to do in something so trivial) we only need to change it in one place, rather than three. \n",
    "\n",
    "If we want to triple, not double, we can change just the function and we would save ourselves having to make changes in three different places. (Try it!)"
   ]
  }
 ],
 "metadata": {
  "anaconda-cloud": {
   "environment": null,
   "summary": "Python Functions",
   "url": "https://anaconda.org/spscomputing/functions"
  },
  "kernelspec": {
   "display_name": "Python [default]",
   "language": "python",
   "name": "python3"
  },
  "language_info": {
   "codemirror_mode": {
    "name": "ipython",
    "version": 3
   },
   "file_extension": ".py",
   "mimetype": "text/x-python",
   "name": "python",
   "nbconvert_exporter": "python",
   "pygments_lexer": "ipython3",
   "version": "3.5.2"
  }
 },
 "nbformat": 4,
 "nbformat_minor": 1
}
