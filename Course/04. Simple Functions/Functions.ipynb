{
 "cells": [
  {
   "cell_type": "markdown",
   "metadata": {
    "outputExpanded": false
   },
   "source": [
    "# Functions\n",
    "\n",
    "If you need to do something more than once, you need to avoid writing the code more than once. \n",
    "\nDon't forget, if you want to run the code, put your cursor in a code block and hit **SHIFT-ENTER**."
   ]
  },
  {
   "cell_type": "code",
   "execution_count": 3,
   "metadata": {
    "collapsed": false,
    "outputExpanded": false
   },
   "outputs": [
    {
     "name": "stdout",
     "text": [
      "5 7 10\n",
      "10 14 20\n"
     ],
     "output_type": "stream"
    }
   ],
   "source": [
    "a = 5\n",
    "b = 7 \n",
    "c = 10\n",
    "\n",
    "print(a,b,c)\n",
    "\n",
    "x = a * 2 \n",
    "y = b * 2 \n",
    "z = c * 2\n",
    "print(x,y,z)"
   ]
  },
  {
   "cell_type": "markdown",
   "metadata": {
    "outputExpanded": false
   },
   "source": [
    "Rather than each time having to explicitly multiply by `2` we could embed that concept in a piece of code and call that. "
   ]
  },
  {
   "cell_type": "code",
   "execution_count": 2,
   "metadata": {
    "collapsed": false,
    "outputExpanded": false
   },
   "outputs": [
    {
     "name": "stdout",
     "text": [
      "5 7 10\n",
      "15 21 30\n"
     ],
     "output_type": "stream"
    }
   ],
   "source": [
    "def double(value):\n",
    "    v = value * 3\n",
    "    return v\n",
    "\n",
    "a = 5 \n",
    "b = 7 \n",
    "c = 10\n",
    "print(a, b, c)\n",
    "\n",
    "x = double(a)\n",
    "y = double(b)\n",
    "z = double(c)\n",
    "print(x,y,z)"
   ]
  },
  {
   "cell_type": "markdown",
   "metadata": {
    "outputExpanded": false
   },
   "source": [
    "This way, if we find a problem in the code (which we are not going to do in something so trivial) we only need to change it in one place, rather than three. \n",
    "\nIf we want to triple, not double, we can change just the function and we would save ourselves having to make changes in three different places. (Try it!)"
   ]
  }
 ],
 "metadata": {
  "anaconda-cloud": {
   "environment": null,
   "summary": "Python Functions",
   "url": "https://anaconda.org/spscomputing/functions"
  },
  "kernelspec": {
   "name": "python3",
   "language": "python",
   "display_name": "Python 3"
  },
  "language_info": {
   "name": "python",
   "version": "3.6.0",
   "mimetype": "text/x-python",
   "codemirror_mode": {
    "name": "ipython",
    "version": 3
   },
   "pygments_lexer": "ipython3",
   "nbconvert_exporter": "python",
   "file_extension": ".py"
  },
  "kernel_info": {
   "name": "python3"
  }
 },
 "nbformat": 4,
 "nbformat_minor": 1
}