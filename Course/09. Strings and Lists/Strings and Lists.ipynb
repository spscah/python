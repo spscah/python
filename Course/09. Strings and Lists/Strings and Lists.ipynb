{
 "cells": [
  {
   "cell_type": "markdown",
   "metadata": {},
   "source": [
    "# Strings and Lists\n",
    "\n",
    "Up to now we have looked at variables that hold individual pieces of data, a single number, a Boolean or similar. We have seen strings, which are collection of characters, we have been able to iterate over strings, for example to count the number of characters of a particular value:"
   ]
  },
  {
   "cell_type": "code",
   "execution_count": 2,
   "metadata": {
    "collapsed": false
   },
   "outputs": [
    {
     "name": "stdout",
     "output_type": "stream",
     "text": [
      "there were 4 instances of the character 'e'\n"
     ]
    }
   ],
   "source": [
    "target = 'e'\n",
    "longer_string = 'This is a normal looking sentence, not special in any way.'\n",
    "counter = 0\n",
    "for ch in longer_string:\n",
    "    if ch == target:\n",
    "        counter += 1\n",
    "        \n",
    "print(\"there were {0} instances of the character '{1}'\".format(counter, target))"
   ]
  },
  {
   "cell_type": "markdown",
   "metadata": {},
   "source": [
    "Now we are going to investigate lists in more detail. \n",
    "\n",
    "Lists are 'ordered collections of items' not necessarily of the same type. They are ordered in so much as when we place items into the list they stay in that order unless or until we move them. "
   ]
  }
 ],
 "metadata": {
  "anaconda-cloud": {},
  "kernelspec": {
   "display_name": "Python [default]",
   "language": "python",
   "name": "python3"
  },
  "language_info": {
   "codemirror_mode": {
    "name": "ipython",
    "version": 3
   },
   "file_extension": ".py",
   "mimetype": "text/x-python",
   "name": "python",
   "nbconvert_exporter": "python",
   "pygments_lexer": "ipython3",
   "version": "3.5.2"
  }
 },
 "nbformat": 4,
 "nbformat_minor": 1
}
